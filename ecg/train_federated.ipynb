{
 "cells": [
  {
   "cell_type": "code",
   "execution_count": 1,
   "metadata": {},
   "outputs": [],
   "source": [
    "%load_ext autoreload\n",
    "%autoreload 2\n",
    "import tensorflow.keras\n",
    "import numpy as np\n",
    "import os\n",
    "import json\n",
    "import tensorflow as tf\n",
    "from tensorflow.keras.optimizers import Adam\n",
    "import sys\n",
    "\n",
    "os.chdir(\"/workspace/telemed5000/ecg/ecg\")\n",
    "import network\n",
    "import load\n",
    "from MITDBDataProvider import *\n",
    "os.chdir('../')\n",
    "import sys\n",
    "gpu = sys.argv[-1]"
   ]
  },
  {
   "cell_type": "markdown",
   "metadata": {},
   "source": [
    "# The cool stuff"
   ]
  },
  {
   "cell_type": "code",
   "execution_count": 2,
   "metadata": {},
   "outputs": [],
   "source": [
    "def average_weights(models):\n",
    "    weights = [model.get_weights() for model in models]\n",
    "    new_weights = list()\n",
    "\n",
    "    for weights_list_tuple in zip(*weights):\n",
    "        new_weights.append(\n",
    "            np.array([np.array(weights_).mean(axis=0)\\\n",
    "                for weights_ in zip(*weights_list_tuple)]))\n",
    "    return new_weights"
   ]
  },
  {
   "cell_type": "code",
   "execution_count": 3,
   "metadata": {},
   "outputs": [],
   "source": [
    "params = json.load(open(\"examples/cinc17/config.json\", 'r'))\n",
    "params.update({\n",
    "    \"input_shape\": [None, 1],\n",
    "    \"num_categories\": 4\n",
    "})\n",
    "def create_model():\n",
    "    with tf.device('/gpu:'+gpu):\n",
    "        model = network.build_network(**params)\n",
    "        optimizer = Adam(\n",
    "            lr=params[\"learning_rate\"],\n",
    "            clipnorm=params.get(\"clipnorm\", 1))\n",
    "\n",
    "        model.compile(loss='categorical_crossentropy',\n",
    "                          optimizer=optimizer,\n",
    "                          metrics=['accuracy'])\n",
    "        return model\n",
    "\n",
    "def fit_model(model, index, dataLoader):\n",
    "    with tf.device('/gpu:'+gpu):\n",
    "        train_x, train_y = dataLoader.clientData(index)\n",
    "        model.fit(train_x, train_y)\n",
    "        return model"
   ]
  },
  {
   "cell_type": "code",
   "execution_count": 4,
   "metadata": {},
   "outputs": [],
   "source": [
    "def fit_federated(clients_count, federated_epochs, loader):\n",
    "    models = list()\n",
    "    print(\"Starting to create models...\")\n",
    "    for i in range(clients_count):\n",
    "        sys.stdout.write(\"\\r\\x1b[K\"+(i+1).__str__())\n",
    "        sys.stdout.flush()\n",
    "        model = create_model()\n",
    "        models.append(model)\n",
    "        \n",
    "    print(\"Starting the training...\")\n",
    "    \n",
    "    history = []\n",
    "    for epoch in range(federated_epochs):\n",
    "        print(f\"Epoch {epoch}/{federated_epochs}\")\n",
    "        for index, model in enumerate(models):\n",
    "            fit_model(model, index, loader)\n",
    "        new_weights = average_weights(models)\n",
    "        for model in models:\n",
    "            model.set_weights(new_weights)\n",
    "        score = model.evaluate(loader.validationData[0], loader.validationData[1], verbose=0)\n",
    "        history.append(score)\n",
    "        print('Test loss:', score[0])\n",
    "        print('Test accuracy:', score[1])\n",
    "    return model, history"
   ]
  },
  {
   "cell_type": "markdown",
   "metadata": {},
   "source": [
    "# Data Loader"
   ]
  },
  {
   "cell_type": "code",
   "execution_count": 5,
   "metadata": {},
   "outputs": [],
   "source": [
    "class CINCFederatedDataLoader:\n",
    "    \n",
    "    def __init__(self, train_path, validation_path, clients):\n",
    "        plain_data = load.load_dataset(train_path)\n",
    "        self.allData = load.Preproc(*plain_data).process(*plain_data)\n",
    "        self.clients = clients\n",
    "        self.groupClientData()\n",
    "        plain_validation_data = load.load_dataset(validation_path)\n",
    "        preproc = load.Preproc(*plain_validation_data)\n",
    "        self.validationData = preproc.process(*plain_validation_data)\n",
    "    \n",
    "    def clientData(self, index):\n",
    "        return self.clientsData[index]\n",
    "    \n",
    "    def groupClientData(self):\n",
    "        self.clientsData = []\n",
    "        xSplit = self.splitArray(self.allData[0])\n",
    "        ySplit = self.splitArray(self.allData[1])\n",
    "        for index in range(self.clients):\n",
    "            self.clientsData.append([xSplit[index], ySplit[index]])\n",
    "\n",
    "    def splitArray(self, array):\n",
    "        return np.array_split(array, self.clients)"
   ]
  },
  {
   "cell_type": "code",
   "execution_count": 6,
   "metadata": {},
   "outputs": [],
   "source": [
    "def do_oversampling(x, y):\n",
    "    classes = np.argmax(y,axis=1)\n",
    "    class_counts=np.bincount(classes)\n",
    "    max_class = np.max(class_counts)\n",
    "    oversample = max_class - class_counts\n",
    "    \n",
    "    result_y = y\n",
    "    result_x = x\n",
    "    idx = [np.random.choice(np.where(classes == c)[0],\n",
    "                            oversample[c]) for c,c_count in enumerate(class_counts)\n",
    "                           if c_count > 0 ]\n",
    "    for i in idx:\n",
    "        result_y = np.concatenate([result_y, y[i]])\n",
    "        result_x = np.concatenate([result_x, x[i]])\n",
    "    \n",
    "    classes = np.argmax(result_y,axis=1)\n",
    "    class_counts=np.bincount(classes)\n",
    "    print(class_counts)\n",
    "    return result_x, result_y"
   ]
  },
  {
   "cell_type": "markdown",
   "metadata": {},
   "source": [
    "# Fit cinc17"
   ]
  },
  {
   "cell_type": "code",
   "execution_count": 8,
   "metadata": {},
   "outputs": [
    {
     "name": "stderr",
     "output_type": "stream",
     "text": [
      "100%|██████████| 7676/7676 [00:02<00:00, 2805.45it/s]\n",
      "100%|██████████| 852/852 [00:00<00:00, 2852.35it/s]\n"
     ]
    },
    {
     "name": "stdout",
     "output_type": "stream",
     "text": [
      "Starting to create models...\n",
      "\u001b[K1WARNING:tensorflow:From /usr/local/lib/python3.6/dist-packages/tensorflow/python/ops/init_ops.py:1251: calling VarianceScaling.__init__ (from tensorflow.python.ops.init_ops) with dtype is deprecated and will be removed in a future version.\n",
      "Instructions for updating:\n",
      "Call initializer instance with the dtype argument instead of passing it to the constructor\n",
      "\u001b[K3Starting the training...\n",
      "WARNING:tensorflow:From /usr/local/lib/python3.6/dist-packages/tensorflow/python/ops/math_grad.py:1250: add_dispatch_support.<locals>.wrapper (from tensorflow.python.ops.array_ops) is deprecated and will be removed in a future version.\n",
      "Instructions for updating:\n",
      "Use tf.where in 2.0, which has the same broadcast rule as np.where\n",
      "1536/1536 [==============================] - 16s 11ms/sample - loss: 0.6738 - acc: 0.7340\n",
      "1535/1535 [==============================] - 14s 9ms/sample - loss: 0.5979 - acc: 0.7633\n",
      "1535/1535 [==============================] - 14s 9ms/sample - loss: 0.6636 - acc: 0.7402\n",
      "Test loss: 1.2958969907581526\n",
      "Test accuracy: 0.50543875\n",
      "1536/1536 [==============================] - 9s 6ms/sample - loss: 0.5314 - acc: 0.7776\n",
      "1535/1535 [==============================] - 9s 6ms/sample - loss: 0.5240 - acc: 0.7903\n",
      "1535/1535 [==============================] - 9s 6ms/sample - loss: 0.5427 - acc: 0.7740\n",
      "Test loss: 0.7889342319237794\n",
      "Test accuracy: 0.74938834\n",
      "1536/1536 [==============================] - 9s 6ms/sample - loss: 0.4493 - acc: 0.8112\n",
      "1535/1535 [==============================] - 9s 6ms/sample - loss: 0.4645 - acc: 0.8018\n",
      "1535/1535 [==============================] - 9s 6ms/sample - loss: 0.4747 - acc: 0.7992\n",
      "Test loss: 0.49526276219059046\n",
      "Test accuracy: 0.7996264\n",
      "1536/1536 [==============================] - 9s 6ms/sample - loss: 0.4224 - acc: 0.8264\n",
      "1535/1535 [==============================] - 9s 6ms/sample - loss: 0.4228 - acc: 0.8260\n",
      "1535/1535 [==============================] - 9s 6ms/sample - loss: 0.4153 - acc: 0.8265\n",
      "Test loss: 0.4161932182983613\n",
      "Test accuracy: 0.8218442\n",
      "1536/1536 [==============================] - 9s 6ms/sample - loss: 0.3685 - acc: 0.8442\n",
      "1535/1535 [==============================] - 9s 6ms/sample - loss: 0.3751 - acc: 0.8379\n",
      "1535/1535 [==============================] - 9s 6ms/sample - loss: 0.3859 - acc: 0.8341\n",
      "Test loss: 0.391312580153416\n",
      "Test accuracy: 0.83128345\n",
      "1536/1536 [==============================] - 9s 6ms/sample - loss: 0.3607 - acc: 0.8453\n",
      "1535/1535 [==============================] - 9s 6ms/sample - loss: 0.3535 - acc: 0.8531\n",
      "1535/1535 [==============================] - 9s 6ms/sample - loss: 0.3635 - acc: 0.8468\n",
      "Test loss: 0.44375427522010086\n",
      "Test accuracy: 0.8085697\n",
      "1536/1536 [==============================] - 9s 6ms/sample - loss: 0.3352 - acc: 0.8598\n",
      "1535/1535 [==============================] - 9s 6ms/sample - loss: 0.3600 - acc: 0.8504\n",
      "1535/1535 [==============================] - 9s 6ms/sample - loss: 0.3522 - acc: 0.8539\n",
      "Test loss: 0.3685435333722074\n",
      "Test accuracy: 0.8519143\n",
      "1536/1536 [==============================] - 9s 6ms/sample - loss: 0.3325 - acc: 0.8593\n",
      "1535/1535 [==============================] - 9s 6ms/sample - loss: 0.3231 - acc: 0.8712\n",
      "1535/1535 [==============================] - 9s 6ms/sample - loss: 0.3395 - acc: 0.8577\n",
      "Test loss: 0.5083603013849034\n",
      "Test accuracy: 0.7570918\n",
      "1536/1536 [==============================] - 9s 6ms/sample - loss: 0.3075 - acc: 0.8769\n",
      "1535/1535 [==============================] - 9s 6ms/sample - loss: 0.3169 - acc: 0.8734\n",
      "1535/1535 [==============================] - 9s 6ms/sample - loss: 0.3229 - acc: 0.8683\n",
      "Test loss: 0.45778229007138893\n",
      "Test accuracy: 0.80714804\n",
      "1536/1536 [==============================] - 9s 6ms/sample - loss: 0.3125 - acc: 0.8748\n",
      "1535/1535 [==============================] - 9s 6ms/sample - loss: 0.3074 - acc: 0.8785\n",
      "1535/1535 [==============================] - 9s 6ms/sample - loss: 0.3166 - acc: 0.8726\n",
      "Test loss: 0.3525194927280498\n",
      "Test accuracy: 0.8654037\n"
     ]
    }
   ],
   "source": [
    "data_json = \"examples/cinc17/train.json\"\n",
    "clients_count = 10\n",
    "epochs = 20\n",
    "cincLoader = CINCFederatedDataLoader(data_json, params['dev'], clients_count)\n",
    "model, history = fit_federated(clients_count=clients_count, federated_epochs=epochs,loader=cincLoader)"
   ]
  },
  {
   "cell_type": "code",
   "execution_count": 13,
   "metadata": {},
   "outputs": [
    {
     "ename": "NameError",
     "evalue": "name 'epochs' is not defined",
     "output_type": "error",
     "traceback": [
      "\u001b[0;31m---------------------------------------------------------------------------\u001b[0m",
      "\u001b[0;31mNameError\u001b[0m                                 Traceback (most recent call last)",
      "\u001b[0;32m<ipython-input-13-080a58b5a988>\u001b[0m in \u001b[0;36m<module>\u001b[0;34m\u001b[0m\n\u001b[1;32m      1\u001b[0m \u001b[0;32mimport\u001b[0m \u001b[0mpickle\u001b[0m\u001b[0;34m\u001b[0m\u001b[0;34m\u001b[0m\u001b[0m\n\u001b[0;32m----> 2\u001b[0;31m \u001b[0;32mwith\u001b[0m \u001b[0mopen\u001b[0m\u001b[0;34m(\u001b[0m\u001b[0;34mf\"train_cinc_fed_{clients_count}_{epochs}.pkl\"\u001b[0m\u001b[0;34m,\u001b[0m \u001b[0;34m\"wb\"\u001b[0m\u001b[0;34m)\u001b[0m \u001b[0;32mas\u001b[0m \u001b[0mf\u001b[0m\u001b[0;34m:\u001b[0m\u001b[0;34m\u001b[0m\u001b[0;34m\u001b[0m\u001b[0m\n\u001b[0m\u001b[1;32m      3\u001b[0m     \u001b[0mpickle\u001b[0m\u001b[0;34m.\u001b[0m\u001b[0mdump\u001b[0m\u001b[0;34m(\u001b[0m\u001b[0mhistory\u001b[0m\u001b[0;34m,\u001b[0m \u001b[0mf\u001b[0m\u001b[0;34m)\u001b[0m\u001b[0;34m\u001b[0m\u001b[0;34m\u001b[0m\u001b[0m\n",
      "\u001b[0;31mNameError\u001b[0m: name 'epochs' is not defined"
     ]
    }
   ],
   "source": [
    "import pickle\n",
    "with open(f\"train_cinc_fed_{clients_count}_{epochs}.pkl\", \"wb\") as f:\n",
    "    pickle.dump(history, f)"
   ]
  },
  {
   "cell_type": "code",
   "execution_count": null,
   "metadata": {},
   "outputs": [],
   "source": [
    "model.save(f\"train_cinc_fed_{clients_count}_{epochs}.h5\")"
   ]
  }
 ],
 "metadata": {
  "jupytext": {
   "formats": "ipynb,py:percent"
  },
  "kernelspec": {
   "display_name": "Python 3",
   "language": "python",
   "name": "python3"
  },
  "language_info": {
   "codemirror_mode": {
    "name": "ipython",
    "version": 3
   },
   "file_extension": ".py",
   "mimetype": "text/x-python",
   "name": "python",
   "nbconvert_exporter": "python",
   "pygments_lexer": "ipython3",
   "version": "3.6.9"
  }
 },
 "nbformat": 4,
 "nbformat_minor": 2
}
